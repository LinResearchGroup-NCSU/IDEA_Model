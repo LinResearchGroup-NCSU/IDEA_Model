{
 "cells": [
  {
   "cell_type": "code",
   "execution_count": 40,
   "id": "2cdca827-ba6a-4974-8d21-29e2d99e20ce",
   "metadata": {},
   "outputs": [],
   "source": [
    "import numpy as np\n",
    "import pandas as pd\n",
    "\n",
    "# Load data from CSV file\n",
    "df = pd.read_csv('DBD_gamma_matrix.csv')\n",
    "\n",
    "# Define amino acid mapping with standard three-letter codes to avoid confusion with nucleic acids\n",
    "aa_type_map = {\n",
    "    'ALA': 0, 'CYS': 4, 'ASP': 3, 'GLU': 6, 'PHE': 13, 'GLY': 7, 'HIS': 8,\n",
    "    'ILE': 9, 'LYS': 11, 'LEU': 10, 'MET': 12, 'ASN': 2, 'PRO': 14, 'GLN': 5,\n",
    "    'ARG': 1, 'SER': 15, 'THR': 16, 'VAL': 19, 'TRP': 17, 'TYR': 18\n",
    "}\n",
    "\n",
    "# Mapping for DNA bases\n",
    "base_type_map = {\n",
    "    'DA': 20, 'DG': 21, 'DC': 22, 'DT': 23\n",
    "}\n",
    "\n",
    "# Combine both dictionaries into a single mapping\n",
    "res_type_map = {**aa_type_map, **base_type_map}\n",
    "\n",
    "# Define matrix size\n",
    "matrix_size = 24\n",
    "\n",
    "# Initialize the interaction matrix with zeros\n",
    "matrix = np.zeros((matrix_size, matrix_size))\n",
    "\n",
    "for idx, row in df.iterrows():\n",
    "    aa_name = row['Unnamed: 0'].strip().upper()  \n",
    "    if aa_name in aa_type_map:\n",
    "        aa_index = aa_type_map[aa_name]\n",
    "        for base in ['DA', 'DC', 'DG', 'DT']:\n",
    "            coef = row[base]\n",
    "            base_index = base_type_map[base]\n",
    "            matrix[aa_index, base_index] = coef\n",
    "            matrix[base_index, aa_index] = coef  \n",
    "\n",
    "# #print(matrix)            \n",
    "\n",
    "# Create the gamma list by extracting values from the upper triangle including diagonal\n",
    "gamma = []\n",
    "for i in range(matrix_size):\n",
    "    for j in range(i, matrix_size):\n",
    "        gamma.append(matrix[i, j])\n",
    "\n",
    "# Convert gamma into a DataFrame for convenience\n",
    "df_gamma = pd.DataFrame(gamma, columns=['Coefficient'])\n",
    "\n",
    "# Save gamma as a CSV file without header and index\n",
    "df_gamma.to_csv('DBD_hunter_gamma', index=False, header=False)"
   ]
  },
  {
   "cell_type": "code",
   "execution_count": null,
   "id": "6ba6d6de-f357-48fb-bdd0-cfcbba3d47f0",
   "metadata": {},
   "outputs": [],
   "source": []
  }
 ],
 "metadata": {
  "kernelspec": {
   "display_name": "Python 3 (ipykernel)",
   "language": "python",
   "name": "python3"
  },
  "language_info": {
   "codemirror_mode": {
    "name": "ipython",
    "version": 3
   },
   "file_extension": ".py",
   "mimetype": "text/x-python",
   "name": "python",
   "nbconvert_exporter": "python",
   "pygments_lexer": "ipython3",
   "version": "3.12.2"
  }
 },
 "nbformat": 4,
 "nbformat_minor": 5
}
